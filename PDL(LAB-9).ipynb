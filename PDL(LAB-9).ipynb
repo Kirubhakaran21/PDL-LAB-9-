{
 "cells": [
  {
   "cell_type": "markdown",
   "metadata": {
    "id": "kUP5LcijBaQY"
   },
   "source": [
    "**Image classification using CNN for CIFAR-10 Data objectives**"
   ]
  },
  {
   "cell_type": "code",
   "execution_count": 22,
   "metadata": {
    "id": "Hw-myd4GBKAX"
   },
   "outputs": [],
   "source": [
    "# step-1 \n",
    "# import necessary libraries\n",
    "\n",
    "from __future__ import print_function\n",
    "import tensorflow\n",
    "import keras\n",
    "from keras.datasets import cifar10\n",
    "from keras.preprocessing.image import ImageDataGenerator\n",
    "from keras.models import Sequential \n",
    "from keras.layers import Dense, Dropout,Activation,Flatten\n",
    "from keras.layers import Conv2D, MaxPooling2D\n",
    "import matplotlib.pyplot as plt"
   ]
  },
  {
   "cell_type": "code",
   "execution_count": 23,
   "metadata": {
    "colab": {
     "base_uri": "https://localhost:8080/"
    },
    "id": "TKWALaiyBdcg",
    "outputId": "a5a4fe48-c4f7-4864-cbd9-8c13c0e9f7dd"
   },
   "outputs": [
    {
     "name": "stdout",
     "output_type": "stream",
     "text": [
      "x_train.shape : (50000, 32, 32, 3)\n",
      "x_test.shape : (10000, 32, 32, 3)\n"
     ]
    }
   ],
   "source": [
    "# Load your data and print the shape of training and test samples\n",
    "\n",
    "(x_train,y_train),(x_test,y_test) = cifar10.load_data()\n",
    "print('x_train.shape :',x_train.shape)\n",
    "print('x_test.shape :',x_test.shape)\n"
   ]
  },
  {
   "cell_type": "code",
   "execution_count": 24,
   "metadata": {
    "colab": {
     "base_uri": "https://localhost:8080/"
    },
    "id": "R-GFnndsC6BN",
    "outputId": "74c80c3a-52ba-4b12-c12a-7c28bbca1cf7"
   },
   "outputs": [
    {
     "data": {
      "text/plain": [
       "(32, 32, 3)"
      ]
     },
     "execution_count": 24,
     "metadata": {},
     "output_type": "execute_result"
    }
   ],
   "source": [
    "# 3. Print the shape of one image \n",
    "x_train[555].shape\n",
    "# the shape is 32*32*3 because our image has height - 32 , width 32 and channel 3 "
   ]
  },
  {
   "cell_type": "code",
   "execution_count": 25,
   "metadata": {
    "colab": {
     "base_uri": "https://localhost:8080/",
     "height": 301
    },
    "id": "47VOMc9NDDNl",
    "outputId": "4578f2ae-20d7-456d-fc71-8751607192f7"
   },
   "outputs": [
    {
     "name": "stdout",
     "output_type": "stream",
     "text": [
      "[1]\n"
     ]
    },
    {
     "data": {
      "text/plain": [
       "<matplotlib.image.AxesImage at 0x7fa0ea75afd0>"
      ]
     },
     "execution_count": 25,
     "metadata": {},
     "output_type": "execute_result"
    },
    {
     "data": {
      "image/png": "[encoded data removed]",
      "text/plain": [
       "<Figure size 432x288 with 1 Axes>"
      ]
     },
     "metadata": {
      "needs_background": "light"
     },
     "output_type": "display_data"
    }
   ],
   "source": [
    "# 4 . Display one image using imshow() function\n",
    "\n",
    "print(y_train[565])\n",
    "\n",
    "plt.imshow(x_train[525])"
   ]
  },
  {
   "cell_type": "code",
   "execution_count": 26,
   "metadata": {
    "id": "LTbN9VcND3Vt"
   },
   "outputs": [],
   "source": [
    "# 5. convert y_train and y_test into categorical values\n",
    "\n",
    "num_classes = 10\n",
    "y_train = tensorflow.keras.utils.to_categorical (y_train, num_classes)\n",
    "y_test =tensorflow.keras.utils.to_categorical(y_test,num_classes)"
   ]
  },
  {
   "cell_type": "code",
   "execution_count": 27,
   "metadata": {
    "colab": {
     "base_uri": "https://localhost:8080/"
    },
    "id": "oNeBhf2hE-2t",
    "outputId": "875030d9-cc77-471a-d908-a7ea5a3d72a9"
   },
   "outputs": [
    {
     "data": {
      "text/plain": [
       "array([0., 0., 0., 0., 0., 0., 0., 0., 0., 1.], dtype=float32)"
      ]
     },
     "execution_count": 27,
     "metadata": {},
     "output_type": "execute_result"
    }
   ],
   "source": [
    "y_train[444]"
   ]
  },
  {
   "cell_type": "code",
   "execution_count": 28,
   "metadata": {
    "id": "aIdW9IgZFo3U"
   },
   "outputs": [],
   "source": [
    "# 6. convert train data into float and scale\n",
    "\n",
    "x_train = x_train.astype('float32')\n",
    "x_test = x_test.astype('float32')\n",
    "\n",
    "x_train /= 255\n",
    "x_test /= 255"
   ]
  },
  {
   "cell_type": "code",
   "execution_count": 8,
   "metadata": {
    "id": "qpcgRPWaGOWE"
   },
   "outputs": [],
   "source": [
    "# 7. Build your first CNN\n",
    "input_shape = (32,32,3)\n",
    "model = Sequential()\n",
    "model.add(Conv2D(filters=32, kernel_size=(5,5),strides=(2,2),\n",
    "                 activation='relu', input_shape = input_shape,padding ='same'))\n",
    "model.add(Conv2D(32, kernel_size=(5,5),strides=(2,2),\n",
    "                 activation='relu'))\n",
    "model.add(MaxPooling2D(pool_size=(2,2)))\n",
    "model.add(Dropout(0.25))\n",
    "model.add(Flatten())\n",
    "model.add(Dense(512,activation='relu'))\n",
    "model.add(Dropout(0.5))\n",
    "model.add(Dense(10,activation='softmax'))"
   ]
  },
  {
   "cell_type": "code",
   "execution_count": 9,
   "metadata": {
    "colab": {
     "base_uri": "https://localhost:8080/"
    },
    "id": "Y3YZ1DU1Hr5b",
    "outputId": "038cedd0-3b20-4f97-ee80-970091e79fca"
   },
   "outputs": [
    {
     "name": "stdout",
     "output_type": "stream",
     "text": [
      "Model: \"sequential\"\n",
      "_________________________________________________________________\n",
      " Layer (type)                Output Shape              Param #   \n",
      "=================================================================\n",
      " conv2d (Conv2D)             (None, 16, 16, 32)        2432      \n",
      "                                                                 \n",
      " conv2d_1 (Conv2D)           (None, 6, 6, 32)          25632     \n",
      "                                                                 \n",
      " max_pooling2d (MaxPooling2D  (None, 3, 3, 32)         0         \n",
      " )                                                               \n",
      "                                                                 \n",
      " dropout (Dropout)           (None, 3, 3, 32)          0         \n",
      "                                                                 \n",
      " flatten (Flatten)           (None, 288)               0         \n",
      "                                                                 \n",
      " dense (Dense)               (None, 512)               147968    \n",
      "                                                                 \n",
      " dropout_1 (Dropout)         (None, 512)               0         \n",
      "                                                                 \n",
      " dense_1 (Dense)             (None, 10)                5130      \n",
      "                                                                 \n",
      "=================================================================\n",
      "Total params: 181,162\n",
      "Trainable params: 181,162\n",
      "Non-trainable params: 0\n",
      "_________________________________________________________________\n"
     ]
    }
   ],
   "source": [
    "#models summary\n",
    "model.summary()"
   ]
  },
  {
   "cell_type": "code",
   "execution_count": 10,
   "metadata": {
    "id": "eizqTaoULsap"
   },
   "outputs": [],
   "source": [
    "from keras.backend import categorical_crossentropy\n",
    "# compile\n",
    "\n",
    "model.compile (optimizer=tensorflow.keras.optimizers.RMSprop(learning_rate=0.0005,decay=1e-6),\n",
    "               loss=keras.losses.categorical_crossentropy, metrics =['accuracy'])\n"
   ]
  },
  {
   "cell_type": "code",
   "execution_count": 11,
   "metadata": {
    "colab": {
     "base_uri": "https://localhost:8080/"
    },
    "id": "7nLfkrpaNVcT",
    "outputId": "4bcc5cb4-3448-4162-8b26-de1db20e60a6"
   },
   "outputs": [
    {
     "name": "stdout",
     "output_type": "stream",
     "text": [
      "Epoch 1/15\n",
      "1563/1563 - 50s - loss: 1.7329 - accuracy: 0.3655 - val_loss: 1.4447 - val_accuracy: 0.4913 - 50s/epoch - 32ms/step\n",
      "Epoch 2/15\n",
      "1563/1563 - 31s - loss: 1.4578 - accuracy: 0.4739 - val_loss: 1.3368 - val_accuracy: 0.5261 - 31s/epoch - 20ms/step\n",
      "Epoch 3/15\n",
      "1563/1563 - 34s - loss: 1.3535 - accuracy: 0.5146 - val_loss: 1.2613 - val_accuracy: 0.5537 - 34s/epoch - 22ms/step\n",
      "Epoch 4/15\n",
      "1563/1563 - 29s - loss: 1.2849 - accuracy: 0.5420 - val_loss: 1.2142 - val_accuracy: 0.5698 - 29s/epoch - 19ms/step\n",
      "Epoch 5/15\n",
      "1563/1563 - 29s - loss: 1.2319 - accuracy: 0.5628 - val_loss: 1.1638 - val_accuracy: 0.5860 - 29s/epoch - 18ms/step\n",
      "Epoch 6/15\n",
      "1563/1563 - 30s - loss: 1.1968 - accuracy: 0.5740 - val_loss: 1.2551 - val_accuracy: 0.5687 - 30s/epoch - 19ms/step\n",
      "Epoch 7/15\n",
      "1563/1563 - 29s - loss: 1.1712 - accuracy: 0.5863 - val_loss: 1.1775 - val_accuracy: 0.5758 - 29s/epoch - 18ms/step\n",
      "Epoch 8/15\n",
      "1563/1563 - 29s - loss: 1.1409 - accuracy: 0.5983 - val_loss: 1.1063 - val_accuracy: 0.6141 - 29s/epoch - 19ms/step\n",
      "Epoch 9/15\n",
      "1563/1563 - 29s - loss: 1.1244 - accuracy: 0.6055 - val_loss: 1.1189 - val_accuracy: 0.6145 - 29s/epoch - 18ms/step\n",
      "Epoch 10/15\n",
      "1563/1563 - 30s - loss: 1.1110 - accuracy: 0.6128 - val_loss: 1.1783 - val_accuracy: 0.5960 - 30s/epoch - 19ms/step\n",
      "Epoch 11/15\n",
      "1563/1563 - 29s - loss: 1.0931 - accuracy: 0.6192 - val_loss: 1.0374 - val_accuracy: 0.6412 - 29s/epoch - 19ms/step\n",
      "Epoch 12/15\n",
      "1563/1563 - 29s - loss: 1.0866 - accuracy: 0.6249 - val_loss: 1.0452 - val_accuracy: 0.6379 - 29s/epoch - 19ms/step\n",
      "Epoch 13/15\n",
      "1563/1563 - 30s - loss: 1.0774 - accuracy: 0.6271 - val_loss: 1.0210 - val_accuracy: 0.6491 - 30s/epoch - 19ms/step\n",
      "Epoch 14/15\n",
      "1563/1563 - 29s - loss: 1.0727 - accuracy: 0.6313 - val_loss: 1.0251 - val_accuracy: 0.6446 - 29s/epoch - 18ms/step\n",
      "Epoch 15/15\n",
      "1563/1563 - 29s - loss: 1.0692 - accuracy: 0.6352 - val_loss: 1.0668 - val_accuracy: 0.6343 - 29s/epoch - 18ms/step\n"
     ]
    },
    {
     "data": {
      "text/plain": [
       "<keras.callbacks.History at 0x7fa0eaefa610>"
      ]
     },
     "execution_count": 11,
     "metadata": {},
     "output_type": "execute_result"
    }
   ],
   "source": [
    "model.fit(x_train,y_train,epochs=15,batch_size=32,validation_data=(x_test,y_test),verbose=2,shuffle=True)"
   ]
  },
  {
   "cell_type": "code",
   "execution_count": null,
   "metadata": {
    "id": "dFajA7BImeAx"
   },
   "outputs": [],
   "source": [
    "model.evaluate(x_test,y_test)"
   ]
  },
  {
   "cell_type": "markdown",
   "metadata": {
    "id": "5DEUsEiFSN7l"
   },
   "source": [
    "**Model imporvement**"
   ]
  },
  {
   "cell_type": "code",
   "execution_count": 29,
   "metadata": {
    "id": "aAcYBxkeSRdR"
   },
   "outputs": [],
   "source": [
    "input_shape = (32,32,3)\n",
    "model1 = Sequential()\n",
    "model1.add(Conv2D(filters=32, kernel_size=(5,5),strides=(1,1),\n",
    "                 activation='relu', input_shape = input_shape,padding ='same'))\n",
    "model1.add(Conv2D(32, kernel_size=(5,5),strides=(1,1),\n",
    "                 activation='relu'))\n",
    "model1.add(MaxPooling2D(pool_size=(2,2)))\n",
    "model1.add(Conv2D(32, kernel_size=(5,5),strides=(1,1),\n",
    "                 activation='relu'))\n",
    "model1.add(Conv2D(32, kernel_size=(5,5),strides=(1,1),\n",
    "                 activation='relu'))\n",
    "model1.add(MaxPooling2D(pool_size=(2,2)))\n",
    "model1.add(Flatten())\n",
    "model1.add(Dense(512,activation='relu'))\n",
    "model1.add(Dense(10,activation='softmax'))"
   ]
  },
  {
   "cell_type": "code",
   "execution_count": 30,
   "metadata": {
    "id": "GOSZKRmbkmCz"
   },
   "outputs": [],
   "source": [
    "model1.compile (optimizer=tensorflow.keras.optimizers.RMSprop(learning_rate=0.0005,decay=1e-6),\n",
    "               loss=keras.losses.categorical_crossentropy, metrics =['accuracy'])\n"
   ]
  },
  {
   "cell_type": "code",
   "execution_count": null,
   "metadata": {
    "colab": {
     "base_uri": "https://localhost:8080/"
    },
    "id": "RcBcVUrMkzdM",
    "outputId": "387c299f-18ae-4af4-9a4e-e7a7c8824502"
   },
   "outputs": [
    {
     "name": "stdout",
     "output_type": "stream",
     "text": [
      "Epoch 1/5\n"
     ]
    }
   ],
   "source": [
    "model1.fit(x_train,y_train,epochs=5,batch_size=32,validation_data=(x_test,y_test),verbose=2)"
   ]
  },
  {
   "cell_type": "code",
   "execution_count": null,
   "metadata": {
    "id": "FjTJOuFdmcMv"
   },
   "outputs": [],
   "source": [
    "model1.evaluate(x_test,y_test)"
   ]
  },
  {
   "cell_type": "code",
   "execution_count": null,
   "metadata": {
    "id": "t2Id9xNwnIVl"
   },
   "outputs": [],
   "source": []
  }
 ],
 "metadata": {
  "colab": {
   "provenance": []
  },
  "kernelspec": {
   "display_name": "Python 3 (ipykernel)",
   "language": "python",
   "name": "python3"
  },
  "language_info": {
   "codemirror_mode": {
    "name": "ipython",
    "version": 3
   },
   "file_extension": ".py",
   "mimetype": "text/x-python",
   "name": "python",
   "nbconvert_exporter": "python",
   "pygments_lexer": "ipython3",
   "version": "3.9.12"
  }
 },
 "nbformat": 4,
 "nbformat_minor": 1
}
